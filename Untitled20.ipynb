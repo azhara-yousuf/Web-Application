{
  "nbformat": 4,
  "nbformat_minor": 0,
  "metadata": {
    "colab": {
      "provenance": [],
      "authorship_tag": "ABX9TyNclA46GtymR+E7cetw0HX4",
      "include_colab_link": true
    },
    "kernelspec": {
      "name": "python3",
      "display_name": "Python 3"
    },
    "language_info": {
      "name": "python"
    }
  },
  "cells": [
    {
      "cell_type": "markdown",
      "metadata": {
        "id": "view-in-github",
        "colab_type": "text"
      },
      "source": [
        "<a href=\"https://colab.research.google.com/github/azhara-yousuf/Web-Application/blob/main/Untitled20.ipynb\" target=\"_parent\"><img src=\"https://colab.research.google.com/assets/colab-badge.svg\" alt=\"Open In Colab\"/></a>"
      ]
    },
    {
      "cell_type": "code",
      "execution_count": 1,
      "metadata": {
        "colab": {
          "base_uri": "https://localhost:8080/"
        },
        "id": "TUnr3B4p-8WB",
        "outputId": "01f5ef33-44ec-461c-9db4-4a2dc80b483e"
      },
      "outputs": [
        {
          "output_type": "stream",
          "name": "stdout",
          "text": [
            "Downloading data from https://storage.googleapis.com/tensorflow/tf-keras-datasets/mnist.npz\n",
            "11490434/11490434 [==============================] - 0s 0us/step\n",
            "Epoch 1/5\n",
            "469/469 [==============================] - 55s 113ms/step - loss: 0.2044 - accuracy: 0.9406 - val_loss: 0.0614 - val_accuracy: 0.9808\n",
            "Epoch 2/5\n",
            "469/469 [==============================] - 46s 99ms/step - loss: 0.0550 - accuracy: 0.9835 - val_loss: 0.0403 - val_accuracy: 0.9878\n",
            "Epoch 3/5\n",
            "469/469 [==============================] - 47s 100ms/step - loss: 0.0388 - accuracy: 0.9880 - val_loss: 0.0438 - val_accuracy: 0.9852\n",
            "Epoch 4/5\n",
            "469/469 [==============================] - 46s 98ms/step - loss: 0.0285 - accuracy: 0.9910 - val_loss: 0.0297 - val_accuracy: 0.9903\n",
            "Epoch 5/5\n",
            "469/469 [==============================] - 45s 96ms/step - loss: 0.0243 - accuracy: 0.9923 - val_loss: 0.0348 - val_accuracy: 0.9887\n",
            "313/313 [==============================] - 4s 12ms/step - loss: 0.0348 - accuracy: 0.9887\n",
            "Test Loss: 0.034837305545806885\n",
            "Test Accuracy: 0.9886999726295471\n"
          ]
        }
      ],
      "source": [
        "import tensorflow as tf\n",
        "from tensorflow.keras.datasets import mnist\n",
        "from tensorflow.keras.models import Sequential\n",
        "from tensorflow.keras.layers import Conv2D, MaxPooling2D, Flatten, Dense\n",
        "from tensorflow.keras.optimizers import Adam\n",
        "from tensorflow.keras.utils import to_categorical\n",
        "\n",
        "# Load MNIST dataset\n",
        "(x_train, y_train), (x_test, y_test) = mnist.load_data()\n",
        "\n",
        "# Normalize pixel values to be between 0 and 1\n",
        "x_train = x_train.astype('float32') / 255.0\n",
        "x_test = x_test.astype('float32') / 255.0\n",
        "\n",
        "# Reshape data to fit the model\n",
        "x_train = x_train.reshape((-1, 28, 28, 1))\n",
        "x_test = x_test.reshape((-1, 28, 28, 1))\n",
        "\n",
        "# Convert labels to one-hot encoding\n",
        "y_train = to_categorical(y_train, num_classes=10)\n",
        "y_test = to_categorical(y_test, num_classes=10)\n",
        "\n",
        "# Define CNN architecture\n",
        "model = Sequential([\n",
        "    Conv2D(32, (3, 3), activation='relu', input_shape=(28, 28, 1)),\n",
        "    MaxPooling2D((2, 2)),\n",
        "    Conv2D(64, (3, 3), activation='relu'),\n",
        "    MaxPooling2D((2, 2)),\n",
        "    Flatten(),\n",
        "    Dense(128, activation='relu'),\n",
        "    Dense(10, activation='softmax')\n",
        "])\n",
        "\n",
        "# Compile the model\n",
        "model.compile(optimizer=Adam(), loss='categorical_crossentropy', metrics=['accuracy'])\n",
        "\n",
        "# Train the model\n",
        "history = model.fit(x_train, y_train, epochs=5, batch_size=128, validation_data=(x_test, y_test))\n",
        "\n",
        "# Evaluate the model\n",
        "test_loss, test_accuracy = model.evaluate(x_test, y_test)\n",
        "print(\"Test Loss:\", test_loss)\n",
        "print(\"Test Accuracy:\", test_accuracy)"
      ]
    },
    {
      "cell_type": "code",
      "source": [
        "import numpy as np\n",
        "from tensorflow.keras.datasets import imdb\n",
        "from tensorflow.keras.preprocessing.sequence import pad_sequences\n",
        "from tensorflow.keras.models import Sequential\n",
        "from tensorflow.keras.layers import Embedding, Flatten, Dense\n",
        "from tensorflow.keras.optimizers import Adam\n",
        "vocab_size = 10000  # Size of vocabulary\n",
        "max_len = 200      # Maximum length of sequences\n",
        "\n",
        "(x_train, y_train), (x_test, y_test) = imdb.load_data(num_words=vocab_size)\n",
        "x_train = pad_sequences(x_train, maxlen=max_len)\n",
        "x_test = pad_sequences(x_test, maxlen=max_len)\n",
        "model = Sequential([\n",
        "    Embedding(vocab_size, 50, input_length=max_len),  # Word embedding layer\n",
        "    Flatten(),                                       # Flatten the output for dense layers\n",
        "    Dense(32, activation='relu'),\n",
        "    Dense(1, activation='sigmoid')                   # Output layer\n",
        "])\n",
        "model.compile(optimizer=Adam(), loss='binary_crossentropy', metrics=['accuracy'])\n",
        "model.fit(x_train, y_train, epochs=5, batch_size=128, validation_data=(x_test, y_test))\n",
        "test_loss, test_accuracy = model.evaluate(x_test, y_test)\n",
        "print(\"Test Loss:\", test_loss)\n",
        "print(\"Test Accuracy:\", test_accuracy)"
      ],
      "metadata": {
        "colab": {
          "base_uri": "https://localhost:8080/"
        },
        "id": "YJ58fgIY_Rps",
        "outputId": "54e19ba1-39a0-4810-8efa-a85891cdebc5"
      },
      "execution_count": 2,
      "outputs": [
        {
          "output_type": "stream",
          "name": "stdout",
          "text": [
            "Downloading data from https://storage.googleapis.com/tensorflow/tf-keras-datasets/imdb.npz\n",
            "17464789/17464789 [==============================] - 0s 0us/step\n",
            "Epoch 1/5\n",
            "196/196 [==============================] - 7s 33ms/step - loss: 0.4579 - accuracy: 0.7603 - val_loss: 0.2981 - val_accuracy: 0.8739\n",
            "Epoch 2/5\n",
            "196/196 [==============================] - 6s 29ms/step - loss: 0.1522 - accuracy: 0.9470 - val_loss: 0.3315 - val_accuracy: 0.8611\n",
            "Epoch 3/5\n",
            "196/196 [==============================] - 6s 31ms/step - loss: 0.0350 - accuracy: 0.9938 - val_loss: 0.3663 - val_accuracy: 0.8645\n",
            "Epoch 4/5\n",
            "196/196 [==============================] - 6s 29ms/step - loss: 0.0075 - accuracy: 0.9993 - val_loss: 0.4056 - val_accuracy: 0.8652\n",
            "Epoch 5/5\n",
            "196/196 [==============================] - 7s 34ms/step - loss: 0.0024 - accuracy: 1.0000 - val_loss: 0.4331 - val_accuracy: 0.8652\n",
            "782/782 [==============================] - 2s 3ms/step - loss: 0.4331 - accuracy: 0.8652\n",
            "Test Loss: 0.43310093879699707\n",
            "Test Accuracy: 0.8651999831199646\n"
          ]
        }
      ]
    },
    {
      "cell_type": "code",
      "source": [],
      "metadata": {
        "id": "-wqfTIvcGpGt"
      },
      "execution_count": null,
      "outputs": []
    }
  ]
}